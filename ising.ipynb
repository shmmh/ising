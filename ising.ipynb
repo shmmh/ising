{
 "cells": [
  {
   "cell_type": "markdown",
   "metadata": {},
   "source": [
    "# Isling Model"
   ]
  },
  {
   "cell_type": "code",
   "execution_count": 4,
   "metadata": {},
   "outputs": [],
   "source": [
    "from ising import Ising\n",
    "import numpy as np\n",
    "from matplotlib import pyplot as plt\n",
    "import ipywidgets as widgets\n",
    "from IPython.display import display"
   ]
  },
  {
   "cell_type": "code",
   "execution_count": 5,
   "metadata": {},
   "outputs": [],
   "source": [
    "# Initialise Variables\n",
    "L, B, J, beta = 32, -0.05, 0.5, 30\n",
    "\n",
    "num_therm = 30\n",
    "\n",
    "mag_per_spin_arr = np.zeros(num_therm)\n",
    "visual_arr = []"
   ]
  },
  {
   "cell_type": "markdown",
   "metadata": {},
   "source": [
    "# Initialise the Ising Model with the Constants"
   ]
  },
  {
   "cell_type": "code",
   "execution_count": 6,
   "metadata": {},
   "outputs": [
    {
     "ename": "TypeError",
     "evalue": "'module' object is not callable",
     "output_type": "error",
     "traceback": [
      "\u001b[0;31m---------------------------------------------------------------------------\u001b[0m",
      "\u001b[0;31mTypeError\u001b[0m                                 Traceback (most recent call last)",
      "\u001b[1;32m/Users/shammah/projects/cp3/ising.ipynb Cell 5\u001b[0m line \u001b[0;36m1\n\u001b[0;32m----> <a href='vscode-notebook-cell:/Users/shammah/projects/cp3/ising.ipynb#W3sZmlsZQ%3D%3D?line=0'>1</a>\u001b[0m ising \u001b[39m=\u001b[39m Ising(L,J,B, beta)\n",
      "\u001b[0;31mTypeError\u001b[0m: 'module' object is not callable"
     ]
    }
   ],
   "source": [
    "ising = Ising(L,J,B, beta)\n"
   ]
  },
  {
   "cell_type": "markdown",
   "metadata": {},
   "source": [
    "# Do Thermalisation Sweeps and keep track of Mag per Spin"
   ]
  },
  {
   "cell_type": "code",
   "execution_count": null,
   "metadata": {},
   "outputs": [],
   "source": [
    "for i in range(num_therm):\n",
    "    mag_per_spin = ising.do_thermalisation_sweep()\n",
    "    mag_per_spin_arr[i] = mag_per_spin\n",
    "    ising.visualise(i+1)"
   ]
  },
  {
   "cell_type": "markdown",
   "metadata": {},
   "source": [
    "# Plot Magnetisation per spin against Thermalisation"
   ]
  },
  {
   "cell_type": "code",
   "execution_count": null,
   "metadata": {},
   "outputs": [],
   "source": [
    "\n",
    "# plot magnetisation per spin array against numper of thermalisation sweeps\n",
    "plt.plot(mag_per_spin_arr)\n",
    "\n",
    "\n",
    "print(mag_per_spin_arr[-1])\n",
    "\n",
    "# Create a slider to select the thermalisation sweep to display\n",
    "slider = widgets.IntSlider(min=0, max=num_therm-1, step=1, value=0)\n",
    "\n",
    "# Display the slider and the corresponding thermalisation sweep\n",
    "def update_visualisation(i):\n",
    "    display(ising.visualisations[i])\n",
    "\n",
    "widgets.interactive(update_visualisation, i=slider)\n"
   ]
  }
 ],
 "metadata": {
  "kernelspec": {
   "display_name": "cmp",
   "language": "python",
   "name": "python3"
  },
  "language_info": {
   "codemirror_mode": {
    "name": "ipython",
    "version": 3
   },
   "file_extension": ".py",
   "mimetype": "text/x-python",
   "name": "python",
   "nbconvert_exporter": "python",
   "pygments_lexer": "ipython3",
   "version": "3.11.5"
  }
 },
 "nbformat": 4,
 "nbformat_minor": 2
}
