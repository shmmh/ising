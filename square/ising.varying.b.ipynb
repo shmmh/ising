{
 "cells": [
  {
   "cell_type": "markdown",
   "metadata": {},
   "source": [
    "# Isling Model"
   ]
  },
  {
   "cell_type": "code",
   "execution_count": 51,
   "metadata": {},
   "outputs": [],
   "source": [
    "from ising import Ising\n",
    "import numpy as np\n",
    "from matplotlib import pyplot as plt\n",
    "import ipywidgets as widgets\n",
    "from IPython.display import display"
   ]
  },
  {
   "cell_type": "code",
   "execution_count": 52,
   "metadata": {},
   "outputs": [],
   "source": [
    "# Initialise Variables\n",
    "L, B, J, beta = 100, -0.05, 0.5, 1\n",
    "\n",
    "num_therm = 100\n",
    "\n",
    "b_num = 50\n",
    "\n",
    "mag_per_spin_arr = np.zeros(num_therm)\n",
    "visual_arr = []"
   ]
  },
  {
   "cell_type": "markdown",
   "metadata": {},
   "source": [
    "# Initialise the Ising Model with the Constants"
   ]
  },
  {
   "cell_type": "code",
   "execution_count": 53,
   "metadata": {},
   "outputs": [],
   "source": [
    "ising = Ising(L,J,B, beta)\n"
   ]
  },
  {
   "cell_type": "code",
   "execution_count": 54,
   "metadata": {},
   "outputs": [],
   "source": [
    "def calculate_running_average(arr, n):\n",
    "    return np.convolve(arr, np.ones((n))/n, mode='valid')\n",
    "\n",
    "def flatten_point(running_avg, threshold):\n",
    "    diff = np.diff(running_avg)\n",
    "    flatten_point = np.where(np.abs(diff) < threshold)[0]\n",
    "    if flatten_point.size > 0:\n",
    "        return flatten_point[0]\n",
    "    else:\n",
    "        return len(running_avg)\n",
    "\n",
    "\n",
    "\n",
    "rav = calculate_running_average(mag_per_spin_arr, 5)\n",
    "threshold = 0.01\n",
    "fp = flatten_point(rav, threshold)"
   ]
  },
  {
   "cell_type": "markdown",
   "metadata": {},
   "source": [
    "## Check Average Mag per Spin with varying J\n"
   ]
  },
  {
   "cell_type": "code",
   "execution_count": 55,
   "metadata": {},
   "outputs": [
    {
     "name": "stdout",
     "output_type": "stream",
     "text": [
      "1\n",
      "j: 0.5, b: -1.0, avg_mag: -0.9932\n",
      "2\n",
      "j: 0.5, b: -0.9591836734693877, avg_mag: -0.9932\n",
      "3\n",
      "j: 0.5, b: -0.9183673469387755, avg_mag: -0.9948\n",
      "4\n",
      "j: 0.5, b: -0.8775510204081632, avg_mag: -0.9936\n",
      "5\n",
      "j: 0.5, b: -0.8367346938775511, avg_mag: -0.9922\n",
      "6\n",
      "j: 0.5, b: -0.7959183673469388, avg_mag: -0.9896\n",
      "7\n",
      "j: 0.5, b: -0.7551020408163265, avg_mag: -0.9908\n",
      "8\n",
      "j: 0.5, b: -0.7142857142857143, avg_mag: -0.9914\n",
      "9\n",
      "j: 0.5, b: -0.6734693877551021, avg_mag: -0.9902\n",
      "10\n",
      "j: 0.5, b: -0.6326530612244898, avg_mag: -0.9872\n",
      "11\n",
      "j: 0.5, b: -0.5918367346938775, avg_mag: -0.9864\n",
      "12\n",
      "j: 0.5, b: -0.5510204081632654, avg_mag: -0.984\n",
      "13\n",
      "j: 0.5, b: -0.5102040816326531, avg_mag: -0.985\n",
      "14\n",
      "j: 0.5, b: -0.4693877551020409, avg_mag: -0.981\n",
      "15\n",
      "j: 0.5, b: -0.4285714285714286, avg_mag: -0.9824\n",
      "16\n",
      "j: 0.5, b: -0.3877551020408164, avg_mag: -0.9804\n",
      "17\n",
      "j: 0.5, b: -0.34693877551020413, avg_mag: -0.9816\n",
      "18\n",
      "j: 0.5, b: -0.30612244897959184, avg_mag: -0.9746\n",
      "19\n",
      "j: 0.5, b: -0.26530612244897966, avg_mag: -0.9734\n",
      "20\n",
      "j: 0.5, b: -0.22448979591836737, avg_mag: -0.9672\n",
      "21\n",
      "j: 0.5, b: -0.1836734693877552, avg_mag: -0.9634\n",
      "22\n",
      "j: 0.5, b: -0.1428571428571429, avg_mag: -0.9596\n",
      "23\n",
      "j: 0.5, b: -0.10204081632653073, avg_mag: -0.951\n",
      "24\n",
      "j: 0.5, b: -0.061224489795918435, avg_mag: -0.9342\n",
      "25\n",
      "j: 0.5, b: -0.020408163265306145, avg_mag: -0.9136\n",
      "26\n",
      "j: 0.5, b: 0.020408163265306145, avg_mag: -0.9036\n",
      "27\n",
      "j: 0.5, b: 0.06122448979591821, avg_mag: 0.93\n",
      "28\n",
      "j: 0.5, b: 0.1020408163265305, avg_mag: 0.9492\n",
      "29\n",
      "j: 0.5, b: 0.1428571428571428, avg_mag: 0.9542\n",
      "30\n",
      "j: 0.5, b: 0.18367346938775508, avg_mag: 0.9578\n",
      "31\n",
      "j: 0.5, b: 0.22448979591836715, avg_mag: 0.97\n",
      "32\n",
      "j: 0.5, b: 0.26530612244897944, avg_mag: 0.97\n",
      "33\n",
      "j: 0.5, b: 0.30612244897959173, avg_mag: 0.9748\n",
      "34\n",
      "j: 0.5, b: 0.346938775510204, avg_mag: 0.9748\n",
      "35\n",
      "j: 0.5, b: 0.3877551020408163, avg_mag: 0.9788\n",
      "36\n",
      "j: 0.5, b: 0.4285714285714284, avg_mag: 0.9804\n",
      "37\n",
      "j: 0.5, b: 0.46938775510204067, avg_mag: 0.9826\n",
      "38\n",
      "j: 0.5, b: 0.510204081632653, avg_mag: 0.9872\n",
      "39\n",
      "j: 0.5, b: 0.5510204081632653, avg_mag: 0.987\n",
      "40\n",
      "j: 0.5, b: 0.5918367346938773, avg_mag: 0.9878\n",
      "41\n",
      "j: 0.5, b: 0.6326530612244896, avg_mag: 0.9908\n",
      "42\n",
      "j: 0.5, b: 0.6734693877551019, avg_mag: 0.9884\n",
      "43\n",
      "j: 0.5, b: 0.7142857142857142, avg_mag: 0.9908\n",
      "44\n",
      "j: 0.5, b: 0.7551020408163265, avg_mag: 0.9902\n",
      "45\n",
      "j: 0.5, b: 0.7959183673469385, avg_mag: 0.9916\n",
      "46\n",
      "j: 0.5, b: 0.8367346938775508, avg_mag: 0.9946\n",
      "47\n",
      "j: 0.5, b: 0.8775510204081631, avg_mag: 0.9938\n",
      "48\n",
      "j: 0.5, b: 0.9183673469387754, avg_mag: 0.9956\n",
      "49\n",
      "j: 0.5, b: 0.9591836734693877, avg_mag: 0.9942\n",
      "50\n",
      "j: 0.5, b: 1.0, avg_mag: 0.9938\n"
     ]
    }
   ],
   "source": [
    "j_vals = np.linspace(-1,1,10)\n",
    "b_vals = np.linspace(-1,1,b_num)\n",
    "avg_mags = np.zeros(len(b_vals)) # Initialize avg_mags as a 2D array\n",
    "spec_head_cap_arr = np.zeros(len(b_vals))\n",
    "succeptibility_arr = np.zeros(len(b_vals)\n",
    "avg_mags_err = np.zeros((len(j_vals), len(b_vals)))\n",
    "\n",
    "i = 0\n",
    "for k, b in enumerate(b_vals):\n",
    "    if k ==0:\n",
    "        ising = Ising(L,J,b, beta)\n",
    "    ising.update_magnetic_field(b)\n",
    "    for l in range(num_therm):\n",
    "        ising.do_thermalisation_sweep()\n",
    "        mag_per_spin_arr[l] = ising.get_mag_per_spin()\n",
    "    # mag_per_spin_arr = np.array([ising.do_thermalisation_sweep() or ising.get_mag_per_spin() for _ in range(num_therm)])\n",
    "    rav = calculate_running_average(mag_per_spin_arr, 3)\n",
    "    fp = flatten_point(rav, threshold)\n",
    "    avg_mags[k] = mag_per_spin_arr[-1]  # Store the average magnetisation in the 2D array\n",
    "    # avg_mags_err[i, k] = np.std(mag_per_spin_arr[fp:])/np.sqrt(len(mag_per_spin_arr[fp:])) # Store the average magnetisation in the 2D array\n",
    "    i += 1\n",
    "    print(i)\n",
    "    print(f'j: {J}, b: {b}, avg_mag: {avg_mags[k]}')"
   ]
  },
  {
   "cell_type": "code",
   "execution_count": 56,
   "metadata": {},
   "outputs": [
    {
     "name": "stdout",
     "output_type": "stream",
     "text": [
      "[-0.9932 -0.9932 -0.9948 -0.9936 -0.9922 -0.9896 -0.9908 -0.9914 -0.9902\n",
      " -0.9872 -0.9864 -0.984  -0.985  -0.981  -0.9824 -0.9804 -0.9816 -0.9746\n",
      " -0.9734 -0.9672 -0.9634 -0.9596 -0.951  -0.9342 -0.9136 -0.9036  0.93\n",
      "  0.9492  0.9542  0.9578  0.97    0.97    0.9748  0.9748  0.9788  0.9804\n",
      "  0.9826  0.9872  0.987   0.9878  0.9908  0.9884  0.9908  0.9902  0.9916\n",
      "  0.9946  0.9938  0.9956  0.9942  0.9938]\n"
     ]
    },
    {
     "data": {
      "image/png": "[encoded data removed]",
      "text/plain": [
       "<Figure size 640x480 with 1 Axes>"
      ]
     },
     "metadata": {},
     "output_type": "display_data"
    }
   ],
   "source": [
    "# np.save('avg_mags_for_varying_b', avg_mags)\n",
    "# np.save('avg_mags_err_for_varying_b', avg_mags_err)\n",
    "\n",
    "# Plot average magnetisation per spin against b vals with error bars\n",
    "plt.figure()\n",
    "plt.plot(b_vals, avg_mags)\n",
    "plt.xlabel('b')\n",
    "plt.ylabel('avg_mag')\n",
    "print(avg_mags)\n"
   ]
  },
  {
   "cell_type": "code",
   "execution_count": 57,
   "metadata": {},
   "outputs": [
    {
     "name": "stdout",
     "output_type": "stream",
     "text": [
      "1\n",
      "j: 0.5, b: 1.0, avg_mag: 0.9946\n",
      "2\n",
      "j: 0.5, b: 0.9591836734693877, avg_mag: 0.9924\n",
      "3\n",
      "j: 0.5, b: 0.9183673469387755, avg_mag: 0.993\n",
      "4\n",
      "j: 0.5, b: 0.8775510204081632, avg_mag: 0.993\n",
      "5\n",
      "j: 0.5, b: 0.8367346938775511, avg_mag: 0.9918\n",
      "6\n",
      "j: 0.5, b: 0.7959183673469388, avg_mag: 0.9932\n",
      "7\n",
      "j: 0.5, b: 0.7551020408163265, avg_mag: 0.993\n",
      "8\n",
      "j: 0.5, b: 0.7142857142857143, avg_mag: 0.99\n",
      "9\n",
      "j: 0.5, b: 0.6734693877551021, avg_mag: 0.992\n",
      "10\n",
      "j: 0.5, b: 0.6326530612244898, avg_mag: 0.9902\n",
      "11\n",
      "j: 0.5, b: 0.5918367346938775, avg_mag: 0.9822\n",
      "12\n",
      "j: 0.5, b: 0.5510204081632654, avg_mag: 0.9846\n",
      "13\n",
      "j: 0.5, b: 0.5102040816326531, avg_mag: 0.9856\n",
      "14\n",
      "j: 0.5, b: 0.4693877551020409, avg_mag: 0.9814\n",
      "15\n",
      "j: 0.5, b: 0.4285714285714286, avg_mag: 0.981\n",
      "16\n",
      "j: 0.5, b: 0.3877551020408164, avg_mag: 0.9752\n",
      "17\n",
      "j: 0.5, b: 0.34693877551020413, avg_mag: 0.9764\n",
      "18\n",
      "j: 0.5, b: 0.30612244897959184, avg_mag: 0.975\n",
      "19\n",
      "j: 0.5, b: 0.26530612244897966, avg_mag: 0.9682\n",
      "20\n",
      "j: 0.5, b: 0.22448979591836737, avg_mag: 0.9676\n",
      "21\n",
      "j: 0.5, b: 0.1836734693877552, avg_mag: 0.9612\n",
      "22\n",
      "j: 0.5, b: 0.1428571428571429, avg_mag: 0.9612\n",
      "23\n",
      "j: 0.5, b: 0.10204081632653073, avg_mag: 0.949\n",
      "24\n",
      "j: 0.5, b: 0.061224489795918435, avg_mag: 0.941\n",
      "25\n",
      "j: 0.5, b: 0.020408163265306145, avg_mag: 0.9138\n",
      "26\n",
      "j: 0.5, b: -0.020408163265306145, avg_mag: 0.906\n",
      "27\n",
      "j: 0.5, b: -0.06122448979591821, avg_mag: -0.9366\n",
      "28\n",
      "j: 0.5, b: -0.1020408163265305, avg_mag: -0.9426\n",
      "29\n",
      "j: 0.5, b: -0.1428571428571428, avg_mag: -0.9624\n",
      "30\n",
      "j: 0.5, b: -0.18367346938775508, avg_mag: -0.9584\n",
      "31\n",
      "j: 0.5, b: -0.22448979591836715, avg_mag: -0.9698\n",
      "32\n",
      "j: 0.5, b: -0.26530612244897944, avg_mag: -0.9688\n",
      "33\n",
      "j: 0.5, b: -0.30612244897959173, avg_mag: -0.9708\n",
      "34\n",
      "j: 0.5, b: -0.346938775510204, avg_mag: -0.9766\n",
      "35\n",
      "j: 0.5, b: -0.3877551020408163, avg_mag: -0.977\n",
      "36\n",
      "j: 0.5, b: -0.4285714285714284, avg_mag: -0.9788\n",
      "37\n",
      "j: 0.5, b: -0.46938775510204067, avg_mag: -0.9828\n",
      "38\n",
      "j: 0.5, b: -0.510204081632653, avg_mag: -0.985\n",
      "39\n",
      "j: 0.5, b: -0.5510204081632653, avg_mag: -0.9856\n",
      "40\n",
      "j: 0.5, b: -0.5918367346938773, avg_mag: -0.9842\n",
      "41\n",
      "j: 0.5, b: -0.6326530612244896, avg_mag: -0.9892\n",
      "42\n",
      "j: 0.5, b: -0.6734693877551019, avg_mag: -0.9906\n",
      "43\n",
      "j: 0.5, b: -0.7142857142857142, avg_mag: -0.9904\n",
      "44\n",
      "j: 0.5, b: -0.7551020408163265, avg_mag: -0.9924\n",
      "45\n",
      "j: 0.5, b: -0.7959183673469385, avg_mag: -0.9926\n",
      "46\n",
      "j: 0.5, b: -0.8367346938775508, avg_mag: -0.9928\n",
      "47\n",
      "j: 0.5, b: -0.8775510204081631, avg_mag: -0.9938\n",
      "48\n",
      "j: 0.5, b: -0.9183673469387754, avg_mag: -0.9936\n",
      "49\n",
      "j: 0.5, b: -0.9591836734693877, avg_mag: -0.9944\n",
      "50\n",
      "j: 0.5, b: -1.0, avg_mag: -0.9938\n"
     ]
    }
   ],
   "source": [
    "j_vals = np.linspace(-1,1,10)\n",
    "b_vals_dec = np.linspace(1,-1,b_num)\n",
    "avg_mags_dec = np.zeros(len(b_vals)) # Initialize avg_mags as a 2D array\n",
    "avg_mags_err = np.zeros((len(j_vals), len(b_vals)))\n",
    "np.flip(b_vals)\n",
    "i = 0\n",
    "for k, b in enumerate(b_vals_dec):\n",
    "    if k ==0:\n",
    "        ising = Ising(L,J,b, beta)\n",
    "    ising.update_magnetic_field(b)\n",
    "    for l in range(num_therm):\n",
    "        ising.do_thermalisation_sweep()\n",
    "        mag_per_spin_arr[l] = ising.get_mag_per_spin()\n",
    "    # mag_per_spin_arr = np.array([ising.do_thermalisation_sweep() or ising.get_mag_per_spin() for _ in range(num_therm)])\n",
    "    rav = calculate_running_average(mag_per_spin_arr, 3)\n",
    "    fp = flatten_point(rav, threshold)\n",
    "    avg_mags_dec[k] = mag_per_spin_arr[-1]  # Store the average magnetisation in the 2D array\n",
    "    # avg_mags_err[i, k] = np.std(mag_per_spin_arr[fp:])/np.sqrt(len(mag_per_spin_arr[fp:])) # Store the average magnetisation in the 2D array\n",
    "    i += 1\n",
    "    print(i)\n",
    "    print(f'j: {J}, b: {b}, avg_mag: {avg_mags_dec[k]}')"
   ]
  },
  {
   "cell_type": "code",
   "execution_count": 58,
   "metadata": {},
   "outputs": [
    {
     "name": "stdout",
     "output_type": "stream",
     "text": [
      "[-0.9932 -0.9932 -0.9948 -0.9936 -0.9922 -0.9896 -0.9908 -0.9914 -0.9902\n",
      " -0.9872 -0.9864 -0.984  -0.985  -0.981  -0.9824 -0.9804 -0.9816 -0.9746\n",
      " -0.9734 -0.9672 -0.9634 -0.9596 -0.951  -0.9342 -0.9136 -0.9036  0.93\n",
      "  0.9492  0.9542  0.9578  0.97    0.97    0.9748  0.9748  0.9788  0.9804\n",
      "  0.9826  0.9872  0.987   0.9878  0.9908  0.9884  0.9908  0.9902  0.9916\n",
      "  0.9946  0.9938  0.9956  0.9942  0.9938]\n"
     ]
    },
    {
     "data": {
      "text/plain": [
       "<matplotlib.legend.Legend at 0x11c337690>"
      ]
     },
     "execution_count": 58,
     "metadata": {},
     "output_type": "execute_result"
    },
    {
     "data": {
      "image/png": "[encoded data removed]",
      "text/plain": [
       "<Figure size 640x480 with 1 Axes>"
      ]
     },
     "metadata": {},
     "output_type": "display_data"
    }
   ],
   "source": [
    "plt.figure()\n",
    "plt.plot(b_vals, avg_mags, label='Increasing b')\n",
    "plt.plot(b_vals_dec, avg_mags_dec, label='Decreasing b')\n",
    "plt.xlabel('b')\n",
    "plt.ylabel('avg_mag')\n",
    "print(avg_mags)\n",
    "plt.legend()"
   ]
  }
 ],
 "metadata": {
  "kernelspec": {
   "display_name": "cmp",
   "language": "python",
   "name": "python3"
  },
  "language_info": {
   "codemirror_mode": {
    "name": "ipython",
    "version": 3
   },
   "file_extension": ".py",
   "mimetype": "text/x-python",
   "name": "python",
   "nbconvert_exporter": "python",
   "pygments_lexer": "ipython3",
   "version": "3.11.5"
  }
 },
 "nbformat": 4,
 "nbformat_minor": 2
}
